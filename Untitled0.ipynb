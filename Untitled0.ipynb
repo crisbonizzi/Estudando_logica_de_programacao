{
  "nbformat": 4,
  "nbformat_minor": 0,
  "metadata": {
    "colab": {
      "provenance": [],
      "authorship_tag": "ABX9TyPScr7ZTj4c0Z8gRGNm/huu",
      "include_colab_link": true
    },
    "kernelspec": {
      "name": "python3",
      "display_name": "Python 3"
    },
    "language_info": {
      "name": "python"
    }
  },
  "cells": [
    {
      "cell_type": "markdown",
      "metadata": {
        "id": "view-in-github",
        "colab_type": "text"
      },
      "source": [
        "<a href=\"https://colab.research.google.com/github/crisbonizzi/Estudando_logica_de_programacao/blob/master/Untitled0.ipynb\" target=\"_parent\"><img src=\"https://colab.research.google.com/assets/colab-badge.svg\" alt=\"Open In Colab\"/></a>"
      ]
    },
    {
      "cell_type": "markdown",
      "source": [
        "Práticar python\n",
        "\n",
        "Nível básico\n",
        "\n",
        "Parte 1\n",
        "\n",
        "Dizendo Olá mundo - Inicio de tudo"
      ],
      "metadata": {
        "id": "8gMu5cJiswA0"
      }
    },
    {
      "cell_type": "code",
      "execution_count": null,
      "metadata": {
        "colab": {
          "base_uri": "https://localhost:8080/"
        },
        "id": "m1ZeIU-mssmU",
        "outputId": "672d6812-a1e4-43f6-fca5-73aae9e2a2c6"
      },
      "outputs": [
        {
          "output_type": "stream",
          "name": "stdout",
          "text": [
            "Hello World\n"
          ]
        }
      ],
      "source": [
        "print (\"Hello World\")"
      ]
    },
    {
      "cell_type": "markdown",
      "source": [
        "2 - Faça um Programa que peça um número e então mostre a mensagem O número informado foi [número]."
      ],
      "metadata": {
        "id": "qbXkC_lSteFD"
      }
    },
    {
      "cell_type": "code",
      "source": [
        "numero=input(\"Digite um número\")\n",
        "print(\" O numero informado foi \" + numero)"
      ],
      "metadata": {
        "colab": {
          "base_uri": "https://localhost:8080/"
        },
        "id": "PwIBlo0ztdm0",
        "outputId": "8e2e10a5-6a02-4443-ac85-e4577ec9d9d8"
      },
      "execution_count": null,
      "outputs": [
        {
          "output_type": "stream",
          "name": "stdout",
          "text": [
            "Digite um número38\n",
            " O numero informado foi 38\n"
          ]
        }
      ]
    },
    {
      "cell_type": "markdown",
      "source": [
        "3 - Faça um Programa que peça dois números e imprima a soma."
      ],
      "metadata": {
        "id": "L8ZYWXEBvX57"
      }
    },
    {
      "cell_type": "code",
      "source": [
        "# pedindo os numeros\n",
        "primeiro_numero=int(input(\"Digite um numero \"))\n",
        "segundo_numero=int(input(\"Digite o segundo número \"))\n",
        "\n",
        "#somando os numeros\n",
        "soma=primeiro_numero + segundo_numero\n",
        "\n",
        "print(\" A soma dos números é \" + str(soma))"
      ],
      "metadata": {
        "colab": {
          "base_uri": "https://localhost:8080/"
        },
        "id": "Mj3yHSEDvqoD",
        "outputId": "3ad737f6-3d81-4dfe-b074-8b1380eaec01"
      },
      "execution_count": null,
      "outputs": [
        {
          "output_type": "stream",
          "name": "stdout",
          "text": [
            "Digite um numero 10\n",
            "Digite o segundo número 10\n",
            " A soma dos números é 20\n"
          ]
        }
      ]
    },
    {
      "cell_type": "markdown",
      "source": [
        "4 - Faça um Programa que peça as 4 notas bimestrais e mostre a média."
      ],
      "metadata": {
        "id": "wC8VuFTux5uW"
      }
    },
    {
      "cell_type": "code",
      "source": [
        "# Pedindo as notas\n",
        "primeira_nota=float(input(\"Digite a primeira nota \"))\n",
        "segunda_nota=float(input(\"Digite a segunda nota \"))\n",
        "terceira_nota=float(input(\"Digite a terceira nota \"))\n",
        "quarta_nota=float(input(\"Digite a quarta nota \"))\n",
        "\n",
        "#media das notas\n",
        "media=primeira_nota + segunda_nota + terceira_nota + quarta_nota / 4\n",
        "\n",
        "print(\" A média das notas bimestrais é \" + str(media))\n",
        "\n"
      ],
      "metadata": {
        "colab": {
          "base_uri": "https://localhost:8080/"
        },
        "id": "VB-Mk5Obx6NS",
        "outputId": "c761ec51-17c1-4386-9138-80b7c37097f9"
      },
      "execution_count": null,
      "outputs": [
        {
          "output_type": "stream",
          "name": "stdout",
          "text": [
            "Digite a primeira nota 5\n",
            "Digite a segunda nota 10\n",
            "Digite a terceira nota 10\n",
            "Digite a quarta nota 5\n",
            " A médias das notas bimestrais é 26.25\n"
          ]
        }
      ]
    },
    {
      "cell_type": "markdown",
      "source": [
        "5- Faça um Programa que converta metros para centímetros."
      ],
      "metadata": {
        "id": "2usRPJSrdPRO"
      }
    },
    {
      "cell_type": "markdown",
      "source": [
        "Modelo 1"
      ],
      "metadata": {
        "id": "ym4foiSJgHKz"
      }
    },
    {
      "cell_type": "code",
      "source": [
        "metros = float(input('Digite o tamanho: '))\n",
        "print('O valor {}m em centimetros é {:.0f}cm'.format(metros, metros * 100))\n",
        "print('O valor {}m em milimetros é {:.0f}mm'.format(metros, metros * 1000))\n"
      ],
      "metadata": {
        "colab": {
          "base_uri": "https://localhost:8080/"
        },
        "id": "NSlqUYPedcA6",
        "outputId": "08cd8c02-9a4a-4f1d-a956-ed3422909bff"
      },
      "execution_count": null,
      "outputs": [
        {
          "output_type": "stream",
          "name": "stdout",
          "text": [
            "Digite o tamanho: 150\n",
            "O valor 150.0m em centimetros é 15000cm\n",
            "O valor 150.0m em milimetros é 150000mm\n"
          ]
        }
      ]
    },
    {
      "cell_type": "code",
      "source": [
        "metros = float(input(\"Digite o tamanho: \"))\n",
        "print('O valor {}m em centimetros é {:.0f}cm'. format(metros, metros * 100))\n",
        "\n"
      ],
      "metadata": {
        "colab": {
          "base_uri": "https://localhost:8080/"
        },
        "id": "yfK5pxnHfSuj",
        "outputId": "51facca5-a24e-43a7-9b6b-f252237c4839"
      },
      "execution_count": null,
      "outputs": [
        {
          "output_type": "stream",
          "name": "stdout",
          "text": [
            "Digite o tamanho: 240\n",
            "O valor 240.0m em centimetros é 24000cm\n"
          ]
        }
      ]
    },
    {
      "cell_type": "markdown",
      "source": [
        "Modelo 2"
      ],
      "metadata": {
        "id": "urMYxI0mgO6e"
      }
    },
    {
      "cell_type": "code",
      "source": [
        "metros = float(input('Digite o valor em Metros para se obter em CM:'))\n",
        "cm = metros*100\n",
        "print('O valor em CM é de {}'.format(cm))\n",
        "\n",
        "# considerações: temos que usar no texto: cm é de {} e o .format() para se obter um formato em centimetros pode se usar fora em uma variável oou dentro do print"
      ],
      "metadata": {
        "colab": {
          "base_uri": "https://localhost:8080/"
        },
        "id": "eFilrtbRgDlp",
        "outputId": "48b3c888-351e-4ebc-ab54-c8479a94b3a7"
      },
      "execution_count": null,
      "outputs": [
        {
          "output_type": "stream",
          "name": "stdout",
          "text": [
            "Digite o valor em Metros para se obter em CM:340\n",
            "O valor em CM é de 34000.0\n"
          ]
        }
      ]
    },
    {
      "cell_type": "code",
      "source": [
        "metros = float(input(' Digite o tamanho para se obter em cm: '))\n",
        "cm = metros*100\n",
        "print (' O valor em cm é de {}' . format(cm))\n"
      ],
      "metadata": {
        "colab": {
          "base_uri": "https://localhost:8080/"
        },
        "id": "B0SiCGqKig0U",
        "outputId": "44c00469-e0a3-41ba-bc94-3dff675c77fd"
      },
      "execution_count": null,
      "outputs": [
        {
          "output_type": "stream",
          "name": "stdout",
          "text": [
            " Digite o tamanho para se obter em cm: 350\n",
            "O valor em cm é de 35000.0\n"
          ]
        }
      ]
    },
    {
      "cell_type": "markdown",
      "source": [
        "6 - Faça um Programa que calcule a área de um quadrado, em seguida mostre o dobro desta área para o usuário.\n"
      ],
      "metadata": {
        "id": "Efj7ZDspl0jc"
      }
    },
    {
      "cell_type": "markdown",
      "source": [
        "Modelo 1"
      ],
      "metadata": {
        "id": "Bp-LPEIcokJz"
      }
    },
    {
      "cell_type": "code",
      "source": [
        "quadrado = float(input('Digite o tamanho da area de um quadrado'))\n",
        "\n",
        "# calculo do lado do quadrado\n",
        "area = quadrado*quadrado\n",
        "\n",
        "# calcul do dobro da area\n",
        "dobro= area + area\n",
        "\n",
        "# exibição dos resultados\n",
        "\n",
        "print ('A area do quadrado é', area )\n",
        "print ('O dobro da area é ' , dobro)"
      ],
      "metadata": {
        "colab": {
          "base_uri": "https://localhost:8080/"
        },
        "id": "3gE9aDHjmNnT",
        "outputId": "10d17b0a-6ea0-4f68-f45d-ca7bca824f25"
      },
      "execution_count": null,
      "outputs": [
        {
          "output_type": "stream",
          "name": "stdout",
          "text": [
            "Digite o tamanho da area de um quadrado25\n",
            "A area do quadrado é 625.0\n",
            "O dobro da area é  1250.0\n"
          ]
        }
      ]
    },
    {
      "cell_type": "markdown",
      "source": [
        "Modeloo 2"
      ],
      "metadata": {
        "id": "OebAtDBfonhg"
      }
    },
    {
      "cell_type": "code",
      "source": [
        "def calcular_area_quadrado(lado):\n",
        "    area = lado * lado\n",
        "    return area\n",
        "\n",
        "# Entrada do lado do quadrado\n",
        "lado = float(input(\"Digite o valor do lado do quadrado: \"))\n",
        "\n",
        "# Cálculo da área do quadrado\n",
        "area = calcular_area_quadrado(lado)\n",
        "\n",
        "# Cálculo do dobro da área\n",
        "dobro_area = area * 2\n",
        "\n",
        "# Exibição dos resultados\n",
        "print(\"A área do quadrado é:\", area)\n",
        "print(\"O dobro da área do quadrado é:\", dobro_area)"
      ],
      "metadata": {
        "colab": {
          "base_uri": "https://localhost:8080/"
        },
        "id": "Bdxl4kWco4dS",
        "outputId": "07140e5b-d650-449a-a2f9-48e2baf13751"
      },
      "execution_count": null,
      "outputs": [
        {
          "output_type": "stream",
          "name": "stdout",
          "text": [
            "Digite o valor do lado do quadrado: 25\n",
            "A área do quadrado é: 625.0\n",
            "O dobro da área do quadrado é: 1250.0\n"
          ]
        }
      ]
    },
    {
      "cell_type": "markdown",
      "source": [
        "7 - Faça um Programa que pergunte quanto você ganha por hora e o número de horas trabalhadas no mês. Calcule e mostre o total do seu salário no referido mês."
      ],
      "metadata": {
        "id": "Wv0GREvErrG1"
      }
    },
    {
      "cell_type": "code",
      "source": [
        "#entrada dos valores\n",
        "\n",
        "valor_hora=float(input(\"Quanto você ganha por hora: \"))\n",
        "horas_trabalhadas=float(input(\"Horas trabalhadas no mês: \"))\n",
        "\n",
        "\n",
        "# Cálculo do salário total - Sempre multiplicar o valor da hora vezes as horas trabalhadas\n",
        "salario_total = valor_hora * horas_trabalhadas\n",
        "\n",
        "# Exibição do resultado\n",
        "print(\"O total do seu salário no mês é:\", salario_total, \" reais\")\n",
        "\n",
        "\n",
        "\n"
      ],
      "metadata": {
        "colab": {
          "base_uri": "https://localhost:8080/"
        },
        "id": "ZWVKzEzrr0zy",
        "outputId": "700e38fd-9bf0-469b-a53f-9bb4e80a050d"
      },
      "execution_count": null,
      "outputs": [
        {
          "output_type": "stream",
          "name": "stdout",
          "text": [
            "Quanto você ganha por hora: 15\n",
            "Horas trabalhadas no mês: 5\n",
            "O total do seu salário no mês é: 75.0  reais\n"
          ]
        }
      ]
    },
    {
      "cell_type": "markdown",
      "source": [
        "8 - Faça um Programa que peça a temperatura em graus Fahrenheit, transforme e mostre a temperatura em graus Celsius.\n",
        "C = 5 * ((F-32) / 9).\n"
      ],
      "metadata": {
        "id": "5lBpHXB3J0hb"
      }
    },
    {
      "cell_type": "code",
      "source": [
        "# Entrando com a temperatura em graus Fahrenheit\n",
        "\n",
        "temperatura_fahrenheit=float(input(\"Entre com a temperatura em graus Fahrenheit  \"))\n",
        "\n",
        "#Convertend para a temperatura em graus Celsius\n",
        "\n",
        "temperatura_celsius= 5 * ((temperatura_fahrenheit - 32) / 9)\n",
        "\n",
        "# Imprimindo a temperatura em graus Celsius\n",
        "\n",
        "print(' A temperatura em graus Celsius é ', temperatura_celsius)\n",
        "\n"
      ],
      "metadata": {
        "colab": {
          "base_uri": "https://localhost:8080/"
        },
        "id": "JGfyJCx5J8PQ",
        "outputId": "594163d3-c200-4635-e695-1e5f1cf54020"
      },
      "execution_count": null,
      "outputs": [
        {
          "output_type": "stream",
          "name": "stdout",
          "text": [
            "Entre com a temperatura em graus Fahrenheit  456\n",
            " A temperatura em graus Celsius é  235.55555555555557\n"
          ]
        }
      ]
    },
    {
      "cell_type": "markdown",
      "source": [
        " 9- Faça um Programa que peça a temperatura em graus Celsius, transforme e mostre em graus Fahrenheit. F = (C * 9/5) + 32"
      ],
      "metadata": {
        "id": "Ng1qtza6Ohdo"
      }
    },
    {
      "cell_type": "code",
      "source": [
        "# Entrando com a temperatura em graus Celsius\n",
        "\n",
        "temperatura_celsius=float(input(\"Entre com a temperatura em graus Celsius  \"))\n",
        "\n",
        "#Convertend para a temperatura em graus Fahrenheit\n",
        "\n",
        "temperatura_fahrenheit=  (temperatura_celsius * 9/5) + 32\n",
        "\n",
        "# Imprimindo a temperatura em graus Fahrenheit\n",
        "\n",
        "print(' A temperatura em  graus Fahrenheit é ', temperatura_fahrenheit )\n",
        "\n",
        "\n",
        "\n",
        "\n"
      ],
      "metadata": {
        "colab": {
          "base_uri": "https://localhost:8080/"
        },
        "id": "SplG__s7OntZ",
        "outputId": "b9ccad08-745f-451d-921f-49eea76d1c8f"
      },
      "execution_count": null,
      "outputs": [
        {
          "output_type": "stream",
          "name": "stdout",
          "text": [
            "Entre com a temperatura em graus Celsius  35\n",
            " A temperatura em  graus Fahrenheit é  95.0\n"
          ]
        }
      ]
    },
    {
      "cell_type": "markdown",
      "source": [
        "10 - Faça um Programa que peça 2 números inteiros e um número real. Calcule e mostre:\n",
        "a - o produto do dobro do primeiro com metade do segundo .\n",
        "b -  a soma do triplo do primeiro com o terceiro.\n",
        "c - o terceiro elevado ao cubo."
      ],
      "metadata": {
        "id": "TsjJK7XCPuQZ"
      }
    },
    {
      "cell_type": "code",
      "source": [
        "# Entrando com os números inteiros\n",
        "\n",
        "numero_inteiro1=int(input(\"Entre com o primeiro número inteiro:  \"))\n",
        "numero_inteiro2=int(input(\"Entre com o segundo número inteiro:   \"))\n",
        "\n",
        "# Entrando com o núemero real\n",
        "\n",
        "numero_real= float(input(\"Entre com um número real:  \"))\n",
        "\n",
        "# Cálculo das operações\n",
        "resultado_a = (2 * numero_inteiro1) * (numero_inteiro2 / 2)\n",
        "resultado_b = (3 * numero_inteiro1) + numero_real\n",
        "resultado_c = numero_real ** 3  #elevado ao cubo\n",
        "\n",
        "# Exibição dos resultados\n",
        "print(' O resultado do calculo (a) é: ', resultado_a)\n",
        "print(' O resultado do calculo (b) é: ', resultado_b)\n",
        "print(' O resultado do calculo (c) é: ', resultado_c)\n",
        "\n",
        "\n",
        "\n",
        "\n",
        "\n",
        "\n",
        "\n"
      ],
      "metadata": {
        "colab": {
          "base_uri": "https://localhost:8080/"
        },
        "id": "7yQQiaMuPy0F",
        "outputId": "a9c30fe3-1fea-41d3-abfa-8776557f048b"
      },
      "execution_count": null,
      "outputs": [
        {
          "output_type": "stream",
          "name": "stdout",
          "text": [
            "Entre com o primeiro número inteiro:  10\n",
            "Entre com o segundo número inteiro:   5\n",
            "Entre com um número real:  2\n",
            " O resultado do calculo (a) é:  50.0\n",
            " O resultado do calculo (b) é:  32.0\n",
            " O resultado do calculo (c) é:  8.0\n"
          ]
        }
      ]
    },
    {
      "cell_type": "markdown",
      "source": [
        "11- Tendo como dados de entrada a altura de uma pessoa, construa um algoritmo que calcule seu peso ideal, usando a seguinte fórmula: (72.7*altura) - 58"
      ],
      "metadata": {
        "id": "BpXjipeZT5OG"
      }
    },
    {
      "cell_type": "code",
      "source": [
        "# Entrando com a altura\n",
        "\n",
        "altura=float(input(\"Entre com sua altura:  \"))\n",
        "\n",
        "#calculando peso ideal\n",
        "\n",
        "peso_ideal=(72.7*altura) - 58\n",
        "\n",
        "#exibindo os resultados\n",
        "\n",
        "print(' O seu peso ideal é: ', peso_ideal)\n",
        "\n"
      ],
      "metadata": {
        "colab": {
          "base_uri": "https://localhost:8080/"
        },
        "id": "hr3J7OcVUEge",
        "outputId": "bcaaaf0f-f7e9-4457-d831-8e71df393097"
      },
      "execution_count": null,
      "outputs": [
        {
          "output_type": "stream",
          "name": "stdout",
          "text": [
            "Entre com sua altura:  1.56\n",
            " O seu peso ideal é:  55.412000000000006\n"
          ]
        }
      ]
    },
    {
      "cell_type": "markdown",
      "source": [],
      "metadata": {
        "id": "CvFdghGRYIWA"
      }
    },
    {
      "cell_type": "markdown",
      "source": [
        "12 - Tendo como dado de entrada a altura (h) de uma pessoa, construa um algoritmo que calcule seu peso ideal, utilizando as seguintes fórmulas:\n",
        "Para homens: (72.7*h) - 58\n",
        "Para mulheres: (62.1*h) - 44.7"
      ],
      "metadata": {
        "id": "SN2P3PMBf5Oe"
      }
    },
    {
      "cell_type": "code",
      "source": [
        "# Entrando com a altura\n",
        "\n",
        "altura=float(input(\"Entre com sua altura:  \"))\n",
        "\n",
        "# Entrada do gênero da pessoa\n",
        "genero = input(\"Digite o gênero da pessoa (M para masculino, F para feminino):\")\n",
        "\n",
        "\n",
        "#calculando peso ideal\n",
        "if genero.upper() == \"M\":\n",
        "   peso_ideal=(72.7*altura) - 58\n",
        "elif genero.upper() == \"F\":\n",
        "     peso_ideal=(62.1*altura) - 44.7\n",
        "else:\n",
        "     print(\"Gênero inválido. Por favor, digite M para masculino ou F para feminino\")\n",
        "     exit()\n",
        "\n",
        "    # Exibição do resultado\n",
        "print(\" Seu peso ideal é: \", peso_ideal)\n",
        "\n"
      ],
      "metadata": {
        "colab": {
          "base_uri": "https://localhost:8080/"
        },
        "id": "bJyVcT64j__7",
        "outputId": "41c967d0-6ba5-4193-bfc9-fae3c9904ec5"
      },
      "execution_count": null,
      "outputs": [
        {
          "output_type": "stream",
          "name": "stdout",
          "text": [
            "Entre com sua altura:  1.20\n",
            "Digite o gênero da pessoa (M para masculino, F para feminino):g\n",
            "Gênero inválido. Por favor, digite M para masculino ou F para feminino\n",
            " Seu peso ideal é:  72.86000000000001\n"
          ]
        }
      ]
    },
    {
      "cell_type": "markdown",
      "source": [
        "13 - João Papo-de-Pescador, homem de bem, comprou um microcomputador para controlar o rendimento diário de seu trabalho. Toda vez que ele traz um peso de peixes maior que o estabelecido pelo regulamento de pesca do estado de São Paulo (50 quilos) deve pagar uma multa de R$ 4,00 por quilo excedente. João precisa que você faça um programa que leia a variável peso (peso de peixes) e calcule o excesso. Gravar na variável excesso a quantidade de quilos além do limite e na variável multa o valor da multa que João deverá pagar. Imprima os dados do programa com as mensagens adequadas.\n"
      ],
      "metadata": {
        "id": "PsndrYg5vEjr"
      }
    },
    {
      "cell_type": "code",
      "source": [
        "# Solicitar o peso dos peixes\n",
        "\n",
        "peso=float(input(\"Digite o peso dos peixes: \"))\n",
        "excesso=peso-50\n",
        "\n",
        "#calculando o excesso\n",
        "\n",
        "if excesso > 0:\n",
        "  multa=excesso*4.00\n",
        "else:\n",
        "  multa=0.00\n",
        "\n",
        "# Imprimindo os resultados\n",
        "if excesso > 0:\n",
        "  print(\"O peso do peixes \", peso, \"Kg\")\n",
        "  print(\"O valor da multa a ser pago R$ \", multa)\n",
        "else:\n",
        "  print(\"Não há excesso de peso. Multa: R$ 0.00 \")\n",
        "\n",
        "\n",
        "\n",
        "\n",
        "\n",
        "\n"
      ],
      "metadata": {
        "id": "YOvqX9yCvOeI",
        "colab": {
          "base_uri": "https://localhost:8080/"
        },
        "outputId": "f84063dc-d917-4119-ea97-0110e40e615a"
      },
      "execution_count": null,
      "outputs": [
        {
          "output_type": "stream",
          "name": "stdout",
          "text": [
            "Digite o peso dos peixes: 66\n",
            "O peso do peixes  66.0 Kg\n",
            "O valor da multa a ser pago R$  64.0\n"
          ]
        }
      ]
    },
    {
      "cell_type": "markdown",
      "source": [
        "14 - Faça um Programa **que pergunte quanto você ganha por hora e o número de horas trabalhadas no mês.** *Calcule e mostre o total do seu salário no referido mês,* sabendo-se que são descontados 11% para o Imposto de Renda, 8% para o INSS e 5% para o sindicato, faça um programa que nos dê:\n",
        "salário bruto.\n",
        "quanto pagou ao INSS.\n",
        "quanto pagou ao sindicato.\n",
        "o salário líquido.\n",
        "calcule os descontos e o salário líquido, conforme a tabela abaixo:\n",
        "+ Salário Bruto : R$\n",
        "- IR (11%) : R$\n",
        "- INSS (8%) : R$\n",
        "- Sindicato ( 5%) : R$\n",
        "= Salário Liquido : R$"
      ],
      "metadata": {
        "id": "3oPwFkQ9rWlU"
      }
    },
    {
      "cell_type": "markdown",
      "source": [
        "Modelo 1 - Feito por mim"
      ],
      "metadata": {
        "id": "U5xMeEhq1TIB"
      }
    },
    {
      "cell_type": "code",
      "source": [
        "# Entrando com os valores\n",
        "valor_hora=float(input(\"Quanto você ganha por hora: \"))\n",
        "horas_trabalhadas=float(input(\"Número de horas trabalhadas: \"))\n",
        "\n",
        "# Total do salário no mês\n",
        "salario_bruto=valor_hora*horas_trabalhadas\n",
        "\n",
        "#calcular os descontos\n",
        "\n",
        "imposto_renda= salario_bruto * 11/100\n",
        "inss=salario_bruto * 8/100\n",
        "sindicato=salario_bruto * 5/100\n",
        "\n",
        "#Calcular o salário liquido\n",
        "salario_liquido= salario_bruto - inss - sindicato - imposto_renda\n",
        "\n",
        "#imprimindo os valores\n",
        "print(\" Seu salario bruto é R$ \", salario_bruto)\n",
        "print(\" Você pagou de IR (11%) R$ \", imposto_renda)\n",
        "print(\" Você pagou de INSS (8%) R$ \", inss)\n",
        "print(\" Você pagou ao Sindicato (5%) R$ \", sindicato)\n",
        "print(\"Salário Líquido: R$\", salario_liquido)\n",
        "\n",
        "\n"
      ],
      "metadata": {
        "colab": {
          "base_uri": "https://localhost:8080/"
        },
        "id": "XSvA5hqcra6K",
        "outputId": "b59d21f6-7f50-4c5b-ee1c-c6073b2e1c07"
      },
      "execution_count": null,
      "outputs": [
        {
          "output_type": "stream",
          "name": "stdout",
          "text": [
            "Quanto você ganha por hora: 15\n",
            "Número de horas trabalhadas: 10\n",
            " Seu salario bruto é R$  150.0\n",
            " Você pagou de IR 11% R$  16.5\n",
            " Você pagou de INSS 8% R$  12.0\n",
            " Você pagou ao Sindicato 5%  R$  7.5\n",
            "Salário Líquido: R$ 114.0\n"
          ]
        }
      ]
    },
    {
      "cell_type": "markdown",
      "source": [
        "Modelo 2 - Feito pelo chat GPT"
      ],
      "metadata": {
        "id": "50cErMhE1ZmY"
      }
    },
    {
      "cell_type": "code",
      "source": [
        "# Solicitar o valor do salário por hora e o número de horas trabalhadas\n",
        "valor_hora = float(input(\"Digite o valor do salário por hora: \"))\n",
        "horas_trabalhadas = float(input(\"Digite o número de horas trabalhadas no mês: \"))\n",
        "\n",
        "# Calcular o salário bruto\n",
        "salario_bruto = valor_hora * horas_trabalhadas\n",
        "\n",
        "# Calcular os descontos\n",
        "imposto_renda = salario_bruto * 0.11\n",
        "inss = salario_bruto * 0.08\n",
        "sindicato = salario_bruto * 0.05\n",
        "\n",
        "# Calcular o salário líquido\n",
        "salario_liquido = salario_bruto - imposto_renda - inss - sindicato\n",
        "\n",
        "# Imprimir os resultados\n",
        "print(\"Salário Bruto: R$\", salario_bruto)\n",
        "print(\"Imposto de Renda (11%): R$\", imposto_renda)\n",
        "print(\"INSS (8%): R$\", inss)\n",
        "print(\"Sindicato (5%): R$\", sindicato)\n",
        "print(\"Salário Líquido: R$\", salario_liquido)\n"
      ],
      "metadata": {
        "colab": {
          "base_uri": "https://localhost:8080/"
        },
        "id": "L1NaB2Y41fwi",
        "outputId": "7b3f9cbb-8335-4a9e-e99b-d7ad0d2eaf3b"
      },
      "execution_count": null,
      "outputs": [
        {
          "output_type": "stream",
          "name": "stdout",
          "text": [
            "Digite o valor do salário por hora: 15\n",
            "Digite o número de horas trabalhadas no mês: 10\n",
            "Salário Bruto: R$ 150.0\n",
            "Imposto de Renda (11%): R$ 16.5\n",
            "INSS (8%): R$ 12.0\n",
            "Sindicato (5%): R$ 7.5\n",
            "Salário Líquido: R$ 114.0\n"
          ]
        }
      ]
    },
    {
      "cell_type": "markdown",
      "source": [
        "15 - Faça um programa para uma loja de tintas. O programa deverá **pedir o tamanho em metros quadrados** da área a ser pintada. Considere que a cobertura da tinta **é de 1 litro para cada 3 metros quadrados** e que a tinta é vendida **em latas de 18 litros,** que custam R$ **80,00.** **Informe ao usuário a quantidades de latas de tinta a serem compradas e o preço total.**"
      ],
      "metadata": {
        "id": "h5U1qVQ91xLY"
      }
    },
    {
      "cell_type": "code",
      "source": [
        "tamanho = float(input('Quantos metros quadrados devem ser pintados: '))\n",
        "\n",
        "litros = tamanho / 3.0\n",
        "latas = int(litros / 18.0)\n",
        "if litros % 18 != 0:\n",
        "    latas += 1\n",
        "\n",
        "print('Voce deverá comprar', latas, 'latas.')\n",
        "print('O valor total é:', latas * 80)"
      ],
      "metadata": {
        "colab": {
          "base_uri": "https://localhost:8080/"
        },
        "id": "GRMhjyjn2LHh",
        "outputId": "d1f1467d-ea41-4845-e83c-7d7943cb0de7"
      },
      "execution_count": null,
      "outputs": [
        {
          "output_type": "stream",
          "name": "stdout",
          "text": [
            "Quantos metros quadrados devem ser pintados: 60\n",
            "Voce deverá comprar 2 latas.\n",
            "O valor total é: 160\n"
          ]
        }
      ]
    },
    {
      "cell_type": "markdown",
      "source": [
        "16 - Faça um Programa para uma loja de tintas. O programa deverá pedir o tamanho em metros quadrados da área a ser pintada. Considere que a cobertura da tinta é de 1 litro para cada 6 metros quadrados e que a tinta é vendida em latas de 18 litros, que custam R$ 80,00 ou em galões de 3,6 litros, que custam R$ 25,00.\n",
        "Informe ao usuário as quantidades de tinta a serem compradas e os respectivos preços em 3 situações:\n",
        "comprar apenas latas de 18 litros;\n",
        "comprar apenas galões de 3,6 litros;\n",
        "misturar latas e galões, de forma que o desperdício de tinta seja menor. Acrescente 10% de folga e sempre arredonde os valores para cima, isto é, considere latas cheias.\n"
      ],
      "metadata": {
        "id": "nh48KkJ5I7HX"
      }
    },
    {
      "cell_type": "code",
      "source": [
        "tamanho = float(input('Entre com o tamanho da área: '))\n",
        "\n",
        "litros = tamanho / 6\n",
        "latas = litros / 18\n",
        "\n",
        "if latas % 18 != 0:\n",
        "    latas += 1\n",
        "preco = latas * 80\n",
        "\n",
        "galoes = litros / 3.6\n",
        "if galoes % 3.6 != 0:\n",
        "    galoes += 1\n",
        "preco2 = galoes * 25\n",
        "\n",
        "# mistura de latas e galoes\n",
        "mistura_lata = int(litros / 18.0)\n",
        "mistura_galao = int((litros - (mistura_lata * 18)) / 3.6)\n",
        "\n",
        "if litros - (mistura_lata * 18) % 3.6 != 0:\n",
        "    mistura_galao += 1\n",
        "\n",
        "print('Apenas latas de 18 litros: %d' % latas, 'preço: %d' % preco)\n",
        "print('Apenas galões de 3.6 litros: %d' % galoes, 'preço: %d' % preco2)\n",
        "print('Mistura: %d latas e %d galoes = %.2f' % (\n",
        "    mistura_lata, mistura_galao, ((mistura_lata * 80) + (mistura_galao * 25))))\n"
      ],
      "metadata": {
        "id": "w9vqvruUJtdP"
      },
      "execution_count": null,
      "outputs": []
    },
    {
      "cell_type": "markdown",
      "source": [
        "17 - Faça um programa que peça o tamanho de um arquivo para download (em MB) e a velocidade de um link de Internet (em Mbps), calcule e informe o tempo aproximado de download do arquivo usando este link (em minutos)."
      ],
      "metadata": {
        "id": "QsmFUoMKJzZ8"
      }
    },
    {
      "cell_type": "code",
      "source": [
        "# Solicitar o tamanho do arquivo em MB e a velocidade do link de internet em Mbps\n",
        "tamanho_arquivo = float(input(\"Digite o tamanho do arquivo para download (em MB): \"))\n",
        "velocidade_internet = float(input(\"Digite a velocidade do link de internet (em Mbps): \"))\n",
        "\n",
        "# Converter o tamanho do arquivo para Megabits (Mb)\n",
        "tamanho_arquivo_mb = tamanho_arquivo * 8\n",
        "\n",
        "# Calcular o tempo de download em minutos\n",
        "tempo_download = tamanho_arquivo_mb / velocidade_internet / 60\n",
        "\n",
        "# Imprimir o tempo aproximado de download\n",
        "print(\"O tempo aproximado de download do arquivo é de\", tempo_download, \"minutos.\")\n"
      ],
      "metadata": {
        "id": "BwBML93YJ5Id"
      },
      "execution_count": null,
      "outputs": []
    }
  ]
}